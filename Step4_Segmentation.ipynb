{
 "cells": [
  {
   "cell_type": "code",
   "execution_count": 11,
   "id": "863e7c61-979f-40a7-af90-b9e5e7114efd",
   "metadata": {},
   "outputs": [
    {
     "name": "stdout",
     "output_type": "stream",
     "text": [
      "   Income_INR Income_Segment\n",
      "0     2309818    High Income\n",
      "1     2431785    High Income\n",
      "2      488998    High Income\n",
      "3     2043400    High Income\n",
      "4     1279111    High Income\n",
      "5     1196107    High Income\n",
      "6      551279    High Income\n",
      "7     2070230    High Income\n",
      "8      689570    High Income\n",
      "9     2250731    High Income\n"
     ]
    }
   ],
   "source": [
    "import pandas as pd\n",
    "import numpy as np\n",
    "\n",
    "# -----------------------\n",
    "# Step 0: Load dataset\n",
    "# -----------------------\n",
    "file_path = r\"C:\\Users\\rajat\\OneDrive\\Desktop\\Inputs scorecard\\EDA.xlsx\"\n",
    "final_df = pd.read_excel(file_path, sheet_name=\"Sheet1\")\n",
    "\n",
    "# Business/judgemental Segmentation (Profile-based)\n",
    "# Group customers into segments based on their characteristics (demographics, income, product type, etc.) before modeling.\n",
    "#Example: Salary segment vs. Self-employed vs. Students.\n",
    "#Purpose: Build separate scorecards for each segment because their risk patterns differ.\n",
    "\n",
    "# Example: Segmentation based on Income and Age\n",
    "conditions = [\n",
    "    (final_df[\"Income_INR\"] < 30000),\n",
    "    (final_df[\"Income_INR\"].between(30000, 70000)),\n",
    "    (final_df[\"Income_INR\"] > 70000)\n",
    "]\n",
    "labels = [\"Low Income\", \"Middle Income\", \"High Income\"]\n",
    "\n",
    "final_df[\"Income_Segment\"] = np.select(conditions, labels)\n",
    "\n",
    "# Check first few rows with Income_INR and Income_Segment\n",
    "print(final_df[[\"Income_INR\", \"Income_Segment\"]].head(10))\n",
    "\n"
   ]
  },
  {
   "cell_type": "code",
   "execution_count": 12,
   "id": "b0b50605-81c6-4648-ae32-6f3768bd877a",
   "metadata": {},
   "outputs": [
    {
     "name": "stdout",
     "output_type": "stream",
     "text": [
      "✅ Cluster distribution:\n",
      "Cluster\n",
      "1    43\n",
      "2    32\n",
      "0    25\n",
      "Name: count, dtype: int64\n"
     ]
    },
    {
     "name": "stderr",
     "output_type": "stream",
     "text": [
      "C:\\Users\\rajat\\anaconda4\\Lib\\site-packages\\sklearn\\cluster\\_kmeans.py:1419: UserWarning: KMeans is known to have a memory leak on Windows with MKL, when there are less chunks than available threads. You can avoid it by setting the environment variable OMP_NUM_THREADS=1.\n",
      "  warnings.warn(\n"
     ]
    }
   ],
   "source": [
    "from sklearn.preprocessing import StandardScaler\n",
    "from sklearn.cluster import KMeans\n",
    "\n",
    "# step - 1 Target Separation\n",
    "target = \"Default_y\"\n",
    "\n",
    "# Keep predictors only\n",
    "X = final_df.drop(columns=[target])\n",
    "\n",
    "# Numeric Feature Selection\n",
    "X_num = X.select_dtypes(include=[np.number]).fillna(0)\n",
    "\n",
    "# Standardize numeric features\n",
    "scaler = StandardScaler()\n",
    "X_scaled = scaler.fit_transform(X_num)\n",
    "#What is StandardScaler()?\n",
    "#It’s a tool from scikit-learn (a Python machine learning library).\n",
    "#It is used for feature scaling – adjusting your data so that all features (columns) are on a similar scale.\n",
    "#Why?\n",
    "# Because in machine learning, features with very large values (like \"salary = 50,000\") can \n",
    "# dominate smaller ones (like \"age = 25\"). Scaling prevents this.\n",
    "\n",
    "\n",
    "# Run KMeans\n",
    "kmeans = KMeans(n_clusters=3, random_state=42)\n",
    "final_df[\"Cluster\"] = kmeans.fit_predict(X_scaled)\n",
    "\n",
    "print(\"✅ Cluster distribution:\")\n",
    "print(final_df[\"Cluster\"].value_counts())\n"
   ]
  },
  {
   "cell_type": "code",
   "execution_count": 12,
   "id": "e6473508-9b09-4a73-bf05-9581c88690d8",
   "metadata": {},
   "outputs": [],
   "source": [
    "#that means your KMeans segmentation worked and you now have:\n",
    "#Cluster 1 → 43 customers\n",
    "#Cluster 2 → 32 customers\n",
    "#Cluster 0 → 25 customers"
   ]
  },
  {
   "cell_type": "code",
   "execution_count": 13,
   "id": "d0aba4db-bb55-485a-904a-e99687f13eaa",
   "metadata": {},
   "outputs": [
    {
     "name": "stdout",
     "output_type": "stream",
     "text": [
      "📊 Cluster Profiles:\n",
      "\n",
      "         count  default_rate  Behavior_Spending_Score  Income_INR  \\\n",
      "Cluster                                                             \n",
      "0           25          0.32                    66.52  1491329.32   \n",
      "1           43          0.26                    39.23  1676008.42   \n",
      "2           32          0.34                    52.78   937727.31   \n",
      "\n",
      "         Total_Credit_Limit  Loan_Tenure_Months  \\\n",
      "Cluster                                           \n",
      "0                1699913.76               39.36   \n",
      "1                1125618.49               36.56   \n",
      "2                1733330.31               48.38   \n",
      "\n",
      "         Months_Since_Most_Recent_Delinquency  Credit_Utilization_Ratio  \\\n",
      "Cluster                                                                   \n",
      "0                                       31.60                      0.60   \n",
      "1                                       31.14                      0.42   \n",
      "2                                       25.34                      0.52   \n",
      "\n",
      "         Credit_Card_Utilization  Employment_Years  ...  Delinquency_12M  \\\n",
      "Cluster                                             ...                    \n",
      "0                           0.51             14.16  ...             3.16   \n",
      "1                           0.50             16.40  ...             1.53   \n",
      "2                           0.44             11.34  ...             1.81   \n",
      "\n",
      "         Loan_Amount  Outstanding_Loans  Oldest_Trade_Open_Months  \\\n",
      "Cluster                                                             \n",
      "0          927669.92               7.12                    144.40   \n",
      "1          934290.30               4.16                    144.49   \n",
      "2         1077015.66               3.84                    115.91   \n",
      "\n",
      "         Total_Current_Balance  Max_Credit_Exposure  No_of_Open_Accounts  \\\n",
      "Cluster                                                                    \n",
      "0                   1254869.32            842293.76                 5.36   \n",
      "1                   1172821.28           1182037.86                 6.30   \n",
      "2                   1338123.66           1165095.53                 5.03   \n",
      "\n",
      "         DPD_30  Savings_Account_Balance  Default_y  \n",
      "Cluster                                              \n",
      "0          0.60                589946.80       0.32  \n",
      "1          0.91                515854.42       0.26  \n",
      "2          1.16                458081.50       0.34  \n",
      "\n",
      "[3 rows x 28 columns]\n"
     ]
    }
   ],
   "source": [
    "# Cluster profile: averages for numeric features + default rate\n",
    "cluster_profile = final_df.groupby(\"Cluster\").agg(\n",
    "    count=(\"Default_y\", \"size\"),\n",
    "    default_rate=(\"Default_y\", \"mean\")\n",
    ")\n",
    "\n",
    "# Add numeric feature means\n",
    "num_means = final_df.groupby(\"Cluster\").mean(numeric_only=True)\n",
    "cluster_profile = cluster_profile.join(num_means)\n",
    "\n",
    "print(\"📊 Cluster Profiles:\\n\")\n",
    "print(cluster_profile.round(2))\n",
    "\n",
    "#Why this matters\n",
    "#This profiling tells you what kind of people are in each cluster.\n",
    "#You can now decide business actions:\n",
    "#Cluster 1 (Orange): Prime customers — safest, high income, low spending.\n",
    "#Cluster 0 (Blue): Affluent but riskier — spend a lot, moderate default.\n",
    "#Cluster 2 (Green): Vulnerable group — lowest income, highest default."
   ]
  },
  {
   "cell_type": "code",
   "execution_count": 14,
   "id": "44c90ba1-adf4-4320-aab2-0cf743f4c66d",
   "metadata": {},
   "outputs": [
    {
     "name": "stdout",
     "output_type": "stream",
     "text": [
      "Columns in final_df:\n",
      "['Education_Level', 'Behavior_Spending_Score', 'Income_INR', 'Total_Credit_Limit', 'Loan_Tenure_Months', 'Months_Since_Most_Recent_Delinquency', 'Credit_Utilization_Ratio', 'Credit_Card_Utilization', 'Employment_Years', 'Behavior_Repayment_Score', 'No_of_Inquiries_6M', 'Credit_History_Length', 'Worst_Current_Status', 'No_of_Closed_Accounts', 'Newest_Trade_Open_Months', 'Checking_Account_Balance', 'Pay_History', 'No_of_Inquiries_12M', 'Delinquency_12M', 'Loan_Amount', 'Outstanding_Loans', 'Oldest_Trade_Open_Months', 'Total_Current_Balance', 'Max_Credit_Exposure', 'No_of_Open_Accounts', 'DPD_30', 'Savings_Account_Balance', 'Default_y', 'Income_Segment', 'Cluster']\n"
     ]
    }
   ],
   "source": [
    "print(\"Columns in final_df:\")\n",
    "print(final_df.columns.tolist())\n"
   ]
  },
  {
   "cell_type": "code",
   "execution_count": 15,
   "id": "ea29af80-c0af-4c79-9b1c-a6c3a8e54334",
   "metadata": {},
   "outputs": [
    {
     "data": {
      "image/png": "[encoded data removed]",
      "text/plain": [
       "<Figure size 800x600 with 1 Axes>"
      ]
     },
     "metadata": {},
     "output_type": "display_data"
    }
   ],
   "source": [
    "import matplotlib.pyplot as plt\n",
    "\n",
    "#Set features for the axes\n",
    "x_feature = \"Income_INR\"\n",
    "y_feature = \"Total_Credit_Limit\"\n",
    "\n",
    "plt.figure(figsize=(8,6))\n",
    "\n",
    "for cluster in final_df[\"Cluster\"].unique():   # gives you the list of cluster IDs\n",
    "    subset = final_df[final_df[\"Cluster\"] == cluster]    # Keeps only rows that belong to that cluster\n",
    "    plt.scatter(\n",
    "        subset[x_feature],\n",
    "        subset[y_feature],\n",
    "        label=f\"Cluster {cluster}\",  # legend entry like “Cluster 0”\n",
    "        alpha=0.7\n",
    "    )\n",
    "\n",
    "plt.xlabel(x_feature)\n",
    "plt.ylabel(y_feature)\n",
    "plt.title(\"Customer Segmentation by KMeans\")\n",
    "plt.legend()\n",
    "plt.show()\n"
   ]
  },
  {
   "cell_type": "code",
   "execution_count": 17,
   "id": "5fdef0b4-594c-4d22-8ee9-7596332c4543",
   "metadata": {},
   "outputs": [
    {
     "name": "stdout",
     "output_type": "stream",
     "text": [
      "✅ Final dataset ready\n",
      "Shape: (100, 29)\n",
      "Columns: ['Education_Level', 'Behavior_Spending_Score', 'Income_INR', 'Total_Credit_Limit', 'Loan_Tenure_Months', 'Months_Since_Most_Recent_Delinquency', 'Credit_Utilization_Ratio', 'Credit_Card_Utilization', 'Employment_Years', 'Behavior_Repayment_Score', 'No_of_Inquiries_6M', 'Credit_History_Length', 'Worst_Current_Status', 'No_of_Closed_Accounts', 'Newest_Trade_Open_Months', 'Checking_Account_Balance', 'Pay_History', 'No_of_Inquiries_12M', 'Delinquency_12M', 'Loan_Amount', 'Outstanding_Loans', 'Oldest_Trade_Open_Months', 'Total_Current_Balance', 'Max_Credit_Exposure', 'No_of_Open_Accounts', 'DPD_30', 'Savings_Account_Balance', 'Default_y', 'Cluster']\n",
      "📂 Saved final dataset to: C:\\Users\\rajat\\OneDrive\\Desktop\\Inputs scorecard\\EDA_final_dataset.xlsx\n"
     ]
    }
   ],
   "source": [
    "# -----------------------------\n",
    "# Create Final Dataset for Next Step\n",
    "# -----------------------------\n",
    "\n",
    "# Ensure target is defined\n",
    "target = \"Default_y\"\n",
    "\n",
    "# Keep only predictors + target + cluster\n",
    "final_features = [col for col in final_df.columns if col not in [\"Income_Segment\"]]  \n",
    "# (Dropped Income_Segment if it was engineered earlier to avoid duplication)\n",
    "\n",
    "final_dataset = final_df[final_features].copy()\n",
    "\n",
    "print(\"✅ Final dataset ready\")\n",
    "print(\"Shape:\", final_dataset.shape)\n",
    "print(\"Columns:\", final_dataset.columns.tolist())\n",
    "\n",
    "# -----------------------------\n",
    "# Save to permanent location\n",
    "# -----------------------------\n",
    "save_path = r\"C:\\Users\\rajat\\OneDrive\\Desktop\\Inputs scorecard\\EDA_final_dataset.xlsx\"\n",
    "final_dataset.to_excel(save_path, index=False)\n",
    "\n",
    "print(f\"📂 Saved final dataset to: {save_path}\")\n"
   ]
  },
  {
   "cell_type": "code",
   "execution_count": null,
   "id": "404eb3c3-cd8e-4ae7-a70a-a4d55e328944",
   "metadata": {},
   "outputs": [],
   "source": []
  }
 ],
 "metadata": {
  "kernelspec": {
   "display_name": "Python 3 (ipykernel)",
   "language": "python",
   "name": "python3"
  },
  "language_info": {
   "codemirror_mode": {
    "name": "ipython",
    "version": 3
   },
   "file_extension": ".py",
   "mimetype": "text/x-python",
   "name": "python",
   "nbconvert_exporter": "python",
   "pygments_lexer": "ipython3",
   "version": "3.12.7"
  }
 },
 "nbformat": 4,
 "nbformat_minor": 5
}
