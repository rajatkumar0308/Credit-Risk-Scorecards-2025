{
 "cells": [
  {
   "cell_type": "code",
   "execution_count": 9,
   "id": "638b2aea-8589-4bff-855c-f0a486e6f167",
   "metadata": {},
   "outputs": [],
   "source": [
    "import pandas as pd\n",
    "\n",
    "# File path (update with correct file name)\n",
    "file_path = r\"C:\\Users\\rajat\\OneDrive\\Desktop\\Inputs scorecard\\customer_scorecard_input.xlsx\"\n",
    "\n",
    "# Read all 2 sheets\n",
    "application_df = pd.read_excel(file_path, sheet_name=\"Application_Data\")\n",
    "behavioral_df = pd.read_excel(file_path, sheet_name=\"Behavioral_Data\")"
   ]
  },
  {
   "cell_type": "code",
   "execution_count": 10,
   "id": "d3c70a6d-3f65-4b89-880b-09e272200c33",
   "metadata": {},
   "outputs": [],
   "source": [
    "# Bureau data (update with correct file name)\n",
    "file_path = r\"C:\\Users\\rajat\\OneDrive\\Desktop\\Inputs scorecard\\bureau_data.xlsx\"\n",
    "bureau_df = pd.read_excel(file_path, sheet_name=\"Bureau_Data\")\n"
   ]
  },
  {
   "cell_type": "code",
   "execution_count": 11,
   "id": "b672c84f-eb0e-4793-85b6-0faa7175fafd",
   "metadata": {},
   "outputs": [],
   "source": [
    "# Merge them into one dataset using Customer_ID\n",
    "merged_df = application_df.merge(behavioral_df, on=\"Customer_ID\") \\\n",
    "                          .merge(bureau_df, on=\"Customer_ID\")"
   ]
  },
  {
   "cell_type": "code",
   "execution_count": 17,
   "id": "897be854-1dc4-4bab-9643-cb799ef3dd28",
   "metadata": {},
   "outputs": [
    {
     "name": "stdout",
     "output_type": "stream",
     "text": [
      "   Customer_ID  Age  Income_INR  Employment_Years Marital_Status  \\\n",
      "0            1   59     2309818                 0       Divorced   \n",
      "1            2   49     2431785                 8       Divorced   \n",
      "2            3   35      488998                27         Single   \n",
      "3            4   63     2043400                26         Single   \n",
      "4            5   28     1279111                 5       Divorced   \n",
      "5            6   41     1196107                15       Divorced   \n",
      "6            7   59      551279                28        Married   \n",
      "7            8   39     2070230                 2       Divorced   \n",
      "8            9   43      689570                19        Married   \n",
      "9           10   31     2250731                27        Married   \n",
      "\n",
      "  Education_Level  Credit_History_Length  Outstanding_Loans  Loan_Amount  \\\n",
      "0        Graduate                      5                  9       448929   \n",
      "1    Postgraduate                     12                  6       630466   \n",
      "2        Graduate                     16                  9       623695   \n",
      "3     High School                     16                  4       513556   \n",
      "4        Graduate                      7                  2       625278   \n",
      "5        Graduate                      4                  6      1043176   \n",
      "6        Graduate                      1                  1      1228049   \n",
      "7        Graduate                      5                  8      1033049   \n",
      "8     High School                     10                  9       528007   \n",
      "9             PhD                      5                  9       894573   \n",
      "\n",
      "   Loan_Tenure_Months  ...  No_of_Inquiries_12M  DPD_30 DPD_60  DPD_90  \\\n",
      "0                  48  ...                    5       2      0       1   \n",
      "1                  24  ...                    0       0      0       1   \n",
      "2                  72  ...                    3       0      1       0   \n",
      "3                  24  ...                    0       0      0       1   \n",
      "4                  24  ...                    5       1      1       1   \n",
      "5                  24  ...                    3       1      1       1   \n",
      "6                  72  ...                    2       0      1       1   \n",
      "7                  36  ...                    2       1      0       0   \n",
      "8                  36  ...                    8       0      1       0   \n",
      "9                  24  ...                    5       0      1       1   \n",
      "\n",
      "   Worst_Current_Status  Months_Since_Most_Recent_Delinquency  \\\n",
      "0                     0                                    56   \n",
      "1                     0                                     6   \n",
      "2                     1                                    21   \n",
      "3                     3                                    54   \n",
      "4                     0                                    32   \n",
      "5                     1                                    16   \n",
      "6                     0                                    23   \n",
      "7                     0                                    33   \n",
      "8                     0                                    27   \n",
      "9                     1                                    57   \n",
      "\n",
      "   Max_Credit_Exposure  Oldest_Trade_Open_Months  Newest_Trade_Open_Months  \\\n",
      "0               989211                       227                        49   \n",
      "1              1626107                       237                        25   \n",
      "2               697160                       225                        40   \n",
      "3              1930947                       142                        24   \n",
      "4               339972                        87                        14   \n",
      "5              1330292                       231                        26   \n",
      "6              1469031                        41                        38   \n",
      "7               288854                       229                        23   \n",
      "8               434600                        32                        22   \n",
      "9               191918                       167                        48   \n",
      "\n",
      "   Default_y  \n",
      "0          1  \n",
      "1          0  \n",
      "2          0  \n",
      "3          0  \n",
      "4          0  \n",
      "5          1  \n",
      "6          1  \n",
      "7          0  \n",
      "8          0  \n",
      "9          0  \n",
      "\n",
      "[10 rows x 34 columns]\n"
     ]
    }
   ],
   "source": [
    "# Quick check\n",
    "#print(\"Application Data shape:\", application_df.shape)\n",
    "#print(\"Behavioral Data shape:\", behavioral_df.shape)\n",
    "#print(\"Bureau Data shape:\", bureau_df.shape)\n",
    "#print(\"Final merged shape:\", merged_df.shape)\n",
    "\n",
    "# Show first few rows\n",
    "print(merged_df.head(10))"
   ]
  },
  {
   "cell_type": "code",
   "execution_count": null,
   "id": "f725e34e-f2f9-41b7-8c3f-02d44c9c5429",
   "metadata": {},
   "outputs": [],
   "source": []
  }
 ],
 "metadata": {
  "kernelspec": {
   "display_name": "Python 3 (ipykernel)",
   "language": "python",
   "name": "python3"
  },
  "language_info": {
   "codemirror_mode": {
    "name": "ipython",
    "version": 3
   },
   "file_extension": ".py",
   "mimetype": "text/x-python",
   "name": "python",
   "nbconvert_exporter": "python",
   "pygments_lexer": "ipython3",
   "version": "3.12.7"
  }
 },
 "nbformat": 4,
 "nbformat_minor": 5
}
