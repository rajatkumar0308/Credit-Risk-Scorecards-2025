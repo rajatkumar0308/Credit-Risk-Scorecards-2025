{
 "cells": [
  {
   "cell_type": "code",
   "execution_count": 33,
   "id": "d6256132-68ed-483e-8bd3-1f34055b3eff",
   "metadata": {},
   "outputs": [
    {
     "name": "stdout",
     "output_type": "stream",
     "text": [
      "   Behavior_Spending_Score  Income_INR  Total_Credit_Limit  \\\n",
      "0                       73     2309818             1996830   \n",
      "1                       26     2431785             2664150   \n",
      "2                       66      488998             1618560   \n",
      "3                       73     2043400              515757   \n",
      "4                       73     1279111             2655214   \n",
      "\n",
      "   Loan_Tenure_Months  Months_Since_Most_Recent_Delinquency  \\\n",
      "0                  48                                    56   \n",
      "1                  24                                     6   \n",
      "2                  72                                    21   \n",
      "3                  24                                    54   \n",
      "4                  24                                    32   \n",
      "\n",
      "   Credit_Utilization_Ratio  Credit_Card_Utilization  Employment_Years  \\\n",
      "0                      0.15                     0.49                 0   \n",
      "1                      0.53                     0.41                 8   \n",
      "2                      0.25                     0.77                27   \n",
      "3                      0.48                     0.01                26   \n",
      "4                      0.39                     0.60                 5   \n",
      "\n",
      "   Behavior_Repayment_Score  No_of_Inquiries_6M  ...  Outstanding_Loans  \\\n",
      "0                        13                   4  ...                  9   \n",
      "1                        82                   0  ...                  6   \n",
      "2                        33                   3  ...                  9   \n",
      "3                        16                   1  ...                  4   \n",
      "4                        42                   3  ...                  2   \n",
      "\n",
      "   Oldest_Trade_Open_Months  Total_Current_Balance  Max_Credit_Exposure  \\\n",
      "0                       227                1523688               989211   \n",
      "1                       237                 171102              1626107   \n",
      "2                       225                 395274               697160   \n",
      "3                       142                 218285              1930947   \n",
      "4                        87                1387980               339972   \n",
      "\n",
      "   No_of_Open_Accounts  DPD_30  Savings_Account_Balance  Cluster  Default_y  \\\n",
      "0                    4       2                   813831        0          1   \n",
      "1                    1       0                   653465        1          0   \n",
      "2                    3       0                   217454        0          0   \n",
      "3                    9       0                   999748        1          0   \n",
      "4                    7       1                   110575        2          0   \n",
      "\n",
      "   Final_Score  \n",
      "0          218  \n",
      "1          836  \n",
      "2          487  \n",
      "3          722  \n",
      "4          888  \n",
      "\n",
      "[5 rows x 28 columns]\n",
      "Index(['Behavior_Spending_Score', 'Income_INR', 'Total_Credit_Limit',\n",
      "       'Loan_Tenure_Months', 'Months_Since_Most_Recent_Delinquency',\n",
      "       'Credit_Utilization_Ratio', 'Credit_Card_Utilization',\n",
      "       'Employment_Years', 'Behavior_Repayment_Score', 'No_of_Inquiries_6M',\n",
      "       'Credit_History_Length', 'Worst_Current_Status',\n",
      "       'No_of_Closed_Accounts', 'Newest_Trade_Open_Months',\n",
      "       'Checking_Account_Balance', 'No_of_Inquiries_12M', 'Delinquency_12M',\n",
      "       'Loan_Amount', 'Outstanding_Loans', 'Oldest_Trade_Open_Months',\n",
      "       'Total_Current_Balance', 'Max_Credit_Exposure', 'No_of_Open_Accounts',\n",
      "       'DPD_30', 'Savings_Account_Balance', 'Cluster', 'Default_y',\n",
      "       'Final_Score'],\n",
      "      dtype='object')\n"
     ]
    }
   ],
   "source": [
    "import pandas as pd\n",
    "import numpy as np\n",
    "\n",
    "# Give full path (make sure to include .xlsx at the end)\n",
    "file_path = r\"C:\\Users\\rajat\\OneDrive\\Desktop\\Inputs scorecard\\Customer_Final_Scores.xlsx\"\n",
    "\n",
    "# Load into dataframe\n",
    "df = pd.read_excel(file_path)\n",
    "\n",
    "# See first 5 rows\n",
    "print(df.head())\n",
    "\n",
    "# See column names\n",
    "print(df.columns)\n"
   ]
  },
  {
   "cell_type": "code",
   "execution_count": 34,
   "id": "a3bcb2fa-6c85-4809-a482-971c44905a6a",
   "metadata": {},
   "outputs": [
    {
     "name": "stdout",
     "output_type": "stream",
     "text": [
      "Goods: 70, Bads: 30\n"
     ]
    }
   ],
   "source": [
    "# Default_y = 0 → Non-Default (Good customer)\n",
    "# Default_y = 1 → Default (Bad customer)\n",
    "goods = (df[\"Default_y\"] == 0).sum()\n",
    "bads = (df[\"Default_y\"] == 1).sum()\n",
    "\n",
    "print(f\"Goods: {goods}, Bads: {bads}\")"
   ]
  },
  {
   "cell_type": "code",
   "execution_count": 35,
   "id": "7e82f0d7-ece0-4ad1-98df-80b3e61f0f0f",
   "metadata": {},
   "outputs": [
    {
     "name": "stdout",
     "output_type": "stream",
     "text": [
      "Base Odds = 2.33:1\n"
     ]
    }
   ],
   "source": [
    "# STEP 3: Calculate Base Odds\n",
    "# ------------------------------------------------\n",
    "# Odds = Goods : Bads ratio\n",
    "BaseOdds = goods / bads\n",
    "print(f\"Base Odds = {BaseOdds:.2f}:1\")"
   ]
  },
  {
   "cell_type": "code",
   "execution_count": 36,
   "id": "81a9946b-a297-40c1-b84a-55e46711fd8c",
   "metadata": {},
   "outputs": [],
   "source": [
    "# STEP 4: Choose PDO and Base Score\n",
    "# ------------------------------------------------\n",
    "PDO = 20         # Points to Double Odds (business decision)\n",
    "BaseScore = 600  # Reference score point"
   ]
  },
  {
   "cell_type": "code",
   "execution_count": 38,
   "id": "5fd6d376-e4c2-4d96-b89d-d11411529b73",
   "metadata": {},
   "outputs": [
    {
     "name": "stdout",
     "output_type": "stream",
     "text": [
      "Factor = 28.85, Offset = 575.55\n"
     ]
    }
   ],
   "source": [
    "# STEP 5: Calculate Factor and Offset\n",
    "# ------------------------------------------------\n",
    "# Formula:\n",
    "#   Factor = PDO / ln(2)\n",
    "#   Offset = BaseScore - Factor * ln(BaseOdds)\n",
    "import math\n",
    "\n",
    "#Factor → “how much score moves when risk changes”\n",
    "#Offset → “starting point” to make sure your reference borrower gets the score you want\n",
    "Factor = PDO / math.log(2)          # 0.693\n",
    "Offset = BaseScore - Factor * math.log(BaseOdds)       # ≈ 0.847\n",
    "\n",
    "print(f\"Factor = {Factor:.2f}, Offset = {Offset:.2f}\")"
   ]
  },
  {
   "cell_type": "code",
   "execution_count": 40,
   "id": "14fe704a-e669-4d0a-a6ec-01e0c410bedc",
   "metadata": {},
   "outputs": [
    {
     "name": "stdout",
     "output_type": "stream",
     "text": [
      "score_decile\n",
      "0    10\n",
      "1    10\n",
      "2    11\n",
      "3     9\n",
      "4    10\n",
      "5    10\n",
      "6    10\n",
      "7    10\n",
      "8    10\n",
      "9    10\n",
      "Name: count, dtype: int64\n",
      "   Final_Score  score_decile\n",
      "0          218             0\n",
      "1          836             7\n",
      "2          487             2\n",
      "3          722             4\n",
      "4          888             8\n",
      "5          508             2\n",
      "6          255             0\n",
      "7          900             8\n",
      "8          778             6\n",
      "9          704             4\n"
     ]
    }
   ],
   "source": [
    "# STEP 6: Create deciles on Final_Score\n",
    "# ------------------------------------------------\n",
    "# Splits data into 10 buckets from lowest score to highest score\n",
    "df[\"score_decile\"] = pd.qcut(df[\"Final_Score\"], 10, labels=False, duplicates=\"drop\")\n",
    "\n",
    "# Count how many customers in each decile\n",
    "print(df[\"score_decile\"].value_counts().sort_index())\n",
    "\n",
    "# Show first 10 rows\n",
    "print(df[[\"Final_Score\", \"score_decile\"]].head(10))\n"
   ]
  },
  {
   "cell_type": "code",
   "execution_count": 41,
   "id": "45228830-946a-4680-9b1d-4566c8c33acf",
   "metadata": {},
   "outputs": [
    {
     "name": "stdout",
     "output_type": "stream",
     "text": [
      "   score_decile  total  bads  goods   avg_score\n",
      "0             0     10     8      2  219.300000\n",
      "1             1     10     8      2  410.900000\n",
      "2             2     11     7      4  524.636364\n",
      "3             3      9     2      7  617.666667\n",
      "4             4     10     1      9  694.700000\n",
      "5             5     10     2      8  749.900000\n",
      "6             6     10     1      9  801.900000\n",
      "7             7     10     0     10  843.500000\n",
      "8             8     10     0     10  880.300000\n",
      "9             9     10     1      9  960.900000\n"
     ]
    }
   ],
   "source": [
    "# STEP 7: Calculate stats per decile\n",
    "# ------------------------------------------------\n",
    "# For each decile: total count, bads, goods, avg Final_Score\n",
    "decile_stats = df.groupby(\"score_decile\").agg(\n",
    "    total=(\"Final_Score\",\"size\"),                     # Count of customers in the decile\n",
    "    bads=(\"Default_y\",\"sum\"),                         # Sum of Default_y (1 = default). Gives # of bads\n",
    "    goods=(\"Default_y\", lambda x: (x==0).sum()),     # Count of non-defaults\n",
    "    avg_score=(\"Final_Score\",\"mean\")                # Average Final_Score in the decile\n",
    ").reset_index()\n",
    "\n",
    "print(decile_stats)\n"
   ]
  },
  {
   "cell_type": "code",
   "execution_count": 42,
   "id": "922640e2-926d-4232-a851-24c72f373e35",
   "metadata": {},
   "outputs": [
    {
     "name": "stdout",
     "output_type": "stream",
     "text": [
      "   score_decile  bads  total     p_bad      odds\n",
      "0             0     8     10  0.800000  0.250000\n",
      "1             1     8     10  0.800000  0.250000\n",
      "2             2     7     11  0.636364  0.571429\n",
      "3             3     2      9  0.222222  3.500000\n",
      "4             4     1     10  0.100000  9.000000\n",
      "5             5     2     10  0.200000  4.000000\n",
      "6             6     1     10  0.100000  9.000000\n",
      "7             7     0     10  0.000000       inf\n",
      "8             8     0     10  0.000000       inf\n",
      "9             9     1     10  0.100000  9.000000\n"
     ]
    }
   ],
   "source": [
    "# STEP 8: Calculate bad rate and odds \n",
    "# ------------------------------------------------\n",
    "decile_stats[\"p_bad\"] = decile_stats[\"bads\"] / decile_stats[\"total\"]       # p_bad = proportion of bads in that decile\n",
    "decile_stats[\"odds\"] = (1 - decile_stats[\"p_bad\"]) / decile_stats[\"p_bad\"] # Odds = ratio of goods to bads\n",
    "\n",
    "print(decile_stats[[\"score_decile\",\"bads\",\"total\",\"p_bad\",\"odds\"]])"
   ]
  },
  {
   "cell_type": "code",
   "execution_count": 43,
   "id": "d450a250-9b00-4ecc-881c-d9680cc1d86f",
   "metadata": {},
   "outputs": [
    {
     "name": "stdout",
     "output_type": "stream",
     "text": [
      "   score_decile      odds  calibrated_score\n",
      "0             0  0.250000            535.55\n",
      "1             1  0.250000            535.55\n",
      "2             2  0.571429            559.41\n",
      "3             3  3.500000            611.70\n",
      "4             4  9.000000            638.95\n",
      "5             5  4.000000            615.55\n",
      "6             6  9.000000            638.95\n",
      "7             7       inf               inf\n",
      "8             8       inf               inf\n",
      "9             9  9.000000            638.95\n"
     ]
    }
   ],
   "source": [
    "#decile_stats[\"odds\"] = decile_stats[\"odds\"].replace([np.inf], 10)\n",
    "# STEP 9: Convert odds into calibrated scores\n",
    "# ------------------------------------------------\n",
    "# Formula:\n",
    "#   Score = Offset + Factor * ln(Odds)\n",
    "decile_stats[\"calibrated_score\"] = decile_stats[\"odds\"].apply(                    # lambda o: - defines an inline fun\n",
    "    lambda o: round(Offset + Factor * math.log(o),2) if o > 0 else None\n",
    ")\n",
    "\n",
    "print(decile_stats[[\"score_decile\", \"odds\", \"calibrated_score\"]])\n"
   ]
  },
  {
   "cell_type": "code",
   "execution_count": 44,
   "id": "a061ec6a-6823-4a2e-98bf-7a3396527fcc",
   "metadata": {},
   "outputs": [
    {
     "name": "stdout",
     "output_type": "stream",
     "text": [
      "Calibration completed. Results saved to C:\\Users\\rajat\\OneDrive\\Desktop\\Inputs scorecard\\Customer_Final_Scores_with_Calibration.xlsx\n"
     ]
    }
   ],
   "source": [
    "# STEP 10: Save results into Excel\n",
    "# ------------------------------------------------\n",
    "output_file = r\"C:\\Users\\rajat\\OneDrive\\Desktop\\Inputs scorecard\\Customer_Final_Scores_with_Calibration.xlsx\"\n",
    "with pd.ExcelWriter(output_file, engine=\"openpyxl\") as writer:\n",
    "    df.to_excel(writer, sheet_name=\"RawData\", index=False)\n",
    "    decile_stats.to_excel(writer, sheet_name=\"DecileCalibration\", index=False)\n",
    "\n",
    "print(f\"Calibration completed. Results saved to {output_file}\")"
   ]
  },
  {
   "cell_type": "code",
   "execution_count": null,
   "id": "05d5fe0e-b6eb-417f-8626-415d1aa1eab5",
   "metadata": {},
   "outputs": [],
   "source": []
  }
 ],
 "metadata": {
  "kernelspec": {
   "display_name": "Python 3 (ipykernel)",
   "language": "python",
   "name": "python3"
  },
  "language_info": {
   "codemirror_mode": {
    "name": "ipython",
    "version": 3
   },
   "file_extension": ".py",
   "mimetype": "text/x-python",
   "name": "python",
   "nbconvert_exporter": "python",
   "pygments_lexer": "ipython3",
   "version": "3.12.7"
  }
 },
 "nbformat": 4,
 "nbformat_minor": 5
}
