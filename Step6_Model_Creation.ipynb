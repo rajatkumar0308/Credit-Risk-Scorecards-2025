{
 "cells": [
  {
   "cell_type": "code",
   "execution_count": 28,
   "id": "9f94583e-e0e2-4180-9f6d-bf267139daf4",
   "metadata": {},
   "outputs": [],
   "source": [
    "import pandas as pd\n",
    "import numpy as np\n",
    "import scorecardpy as sc\n",
    "from sklearn.model_selection import train_test_split\n",
    "from sklearn.linear_model import LogisticRegression\n",
    "from sklearn.metrics import roc_auc_score, roc_curve\n",
    "import matplotlib.pyplot as plt\n",
    "from scorecardpy import woebin, woebin_ply, scorecard\n",
    "\n",
    "# ----------------------------\n",
    "# Step 1: Load Data\n",
    "# ----------------------------\n",
    "file_path = r\"C:\\Users\\rajat\\OneDrive\\Desktop\\Inputs scorecard\\Final_Model_Dataset.xlsx\"\n",
    "df = pd.read_excel(file_path)\n",
    "\n",
    "target = \"Default_y\"\n",
    "X = df.drop(columns=[target])\n",
    "y = df[target]"
   ]
  },
  {
   "cell_type": "code",
   "execution_count": 30,
   "id": "d4b857d2-d548-435c-bf2f-e2f6dcd928bb",
   "metadata": {},
   "outputs": [
    {
     "name": "stdout",
     "output_type": "stream",
     "text": [
      "Train shape: (70, 27)\n",
      "Test shape: (30, 27)\n"
     ]
    }
   ],
   "source": [
    "# ----------------------------\n",
    "# Step 2: Train-Test Split\n",
    "# ----------------------------\n",
    "train, test = train_test_split(df, test_size=0.3, stratify=df[target], random_state=42)\n",
    "\n",
    "print(\"Train shape:\", train.shape)\n",
    "print(\"Test shape:\", test.shape)\n",
    "\n",
    "\n"
   ]
  },
  {
   "cell_type": "code",
   "execution_count": 31,
   "id": "49abdbd5-b4f8-47b8-b0ed-6453d7aa4562",
   "metadata": {},
   "outputs": [
    {
     "name": "stdout",
     "output_type": "stream",
     "text": [
      "[INFO] creating woe binning ...\n",
      "Binning on 70 rows and 27 columns in 00:00:10\n"
     ]
    }
   ],
   "source": [
    "# ----------------------------\n",
    "# Step 3: WOE Binning \n",
    "# ----------------------------\n",
    "# import warnings\n",
    "\n",
    "# Suppress only FutureWarnings (so code stays clean)\n",
    "# warnings.filterwarnings(\"ignore\", category=FutureWarning)\n",
    "\n",
    "# Step 2: WOE Binning\n",
    "bins = sc.woebin(train, y=target)\n",
    "\n",
    "# Extract IV values from bins\n",
    "iv_list = []\n",
    "for var, df_bin in bins.items():\n",
    "    iv = df_bin['total_iv'].iloc[0]   # each variable’s IV is stored in its binning table\n",
    "    iv_list.append((var, iv))\n",
    "\n",
    "iv_df = pd.DataFrame(iv_list, columns=[\"variable\", \"total_iv\"])\n",
    "\n",
    "# Filter out weak variables (IV < 0.02)\n",
    "good_vars = iv_df.loc[iv_df['total_iv'] > 0.02, 'variable'].tolist()\n",
    "\n",
    "# Keep only strong variables in train & test\n",
    "train = train[good_vars + [target]]\n",
    "test = test[good_vars + [target]]\n"
   ]
  },
  {
   "cell_type": "code",
   "execution_count": 32,
   "id": "a17a97f2-17b8-42b7-9ab3-aad16c153b17",
   "metadata": {},
   "outputs": [],
   "source": [
    "# ----------------------------\n",
    "# Step 4: Logistic Regression Model\n",
    "# ----------------------------\n",
    "model = LogisticRegression(max_iter=1000, solver=\"lbfgs\")\n",
    "model.fit(X_train, y_train)\n",
    "\n",
    "# Predictions (probabilities)\n",
    "y_pred_prob = model.predict_proba(X_test)[:, 1]\n",
    "\n",
    "\n"
   ]
  },
  {
   "cell_type": "code",
   "execution_count": 33,
   "id": "f4add4ef-bde2-4f20-80c1-7a0a96c1e7a3",
   "metadata": {},
   "outputs": [
    {
     "name": "stdout",
     "output_type": "stream",
     "text": [
      "AUC: 0.4286\n",
      "KS: 0.1270\n"
     ]
    },
    {
     "data": {
      "image/png": "[encoded data removed]",
      "text/plain": [
       "<Figure size 640x480 with 1 Axes>"
      ]
     },
     "metadata": {},
     "output_type": "display_data"
    }
   ],
   "source": [
    "# ----------------------------\n",
    "# Step 5: Evaluation\n",
    "# ----------------------------\n",
    "auc = roc_auc_score(y_test, y_pred_prob)          # Step 1: Compute AUC Range: 0.5 → 1.0\n",
    "fpr, tpr, _ = roc_curve(y_test, y_pred_prob)      # Step 2: Get ROC curve values ->\n",
    "                                                  #plot True Positive Rate vs False Positive\n",
    "ks = max(tpr - fpr)                               # Step 3: KS statistic : maximum vertical distance between the TPR curve and FPR curve\n",
    "\n",
    "print(f\"AUC: {auc:.4f}\")\n",
    "print(f\"KS: {ks:.4f}\")\n",
    "\n",
    "plt.plot(fpr, tpr, label=f\"AUC={auc:.2f}\")\n",
    "plt.plot([0,1],[0,1],'--',color=\"gray\")\n",
    "plt.xlabel(\"False Positive Rate\")\n",
    "plt.ylabel(\"True Positive Rate\")\n",
    "plt.title(\"ROC Curve\")\n",
    "plt.legend()\n",
    "plt.show()"
   ]
  },
  {
   "cell_type": "code",
   "execution_count": 34,
   "id": "d91219dc-d885-4823-81df-657df2af3666",
   "metadata": {},
   "outputs": [
    {
     "name": "stdout",
     "output_type": "stream",
     "text": [
      " Scorecard and test scores saved successfully at C:\\Users\\rajat\\OneDrive\\Desktop\\Inputs scorecard\\Final_Model_Scorecard.xlsx\n"
     ]
    }
   ],
   "source": [
    "# ----------------------------\n",
    "# Step 6: Scorecard Creation\n",
    "# ----------------------------\n",
    "\n",
    "# List of predictor variable names\n",
    "x_columns = [col for col in X_train.columns if col != target]\n",
    "\n",
    "# Create scorecard\n",
    "card = sc.scorecard(bins, model, xcolumns=x_columns,\n",
    "                    points0=600, odds0=35/65, pdo=50)\n",
    "\n",
    "# Convert scorecard dict into DataFrame\n",
    "card_df = pd.concat({k: pd.DataFrame(v) for k, v in card.items()})\n",
    "\n",
    "# This step assigns a credit score to each customer in the test dataset\n",
    "test_score = sc.scorecard_ply(test, card)\n",
    "\n",
    "# Save scorecard & scores\n",
    "output_path = r\"C:\\Users\\rajat\\OneDrive\\Desktop\\Inputs scorecard\\Final_Model_Scorecard.xlsx\"\n",
    "with pd.ExcelWriter(output_path) as writer:\n",
    "    card_df.to_excel(writer, sheet_name=\"Scorecard\")\n",
    "    test_score.to_excel(writer, sheet_name=\"Test_Scores\", index=False)\n",
    "\n",
    "print(f\" Scorecard and test scores saved successfully at {output_path}\")\n"
   ]
  },
  {
   "cell_type": "code",
   "execution_count": 35,
   "id": "3805cf4c-32ef-4167-be81-fe83213ef2fc",
   "metadata": {},
   "outputs": [
    {
     "name": "stdout",
     "output_type": "stream",
     "text": [
      "✅ Clean scorecard saved at C:\\Users\\rajat\\OneDrive\\Desktop\\Inputs scorecard\\Final_Model_Scorecard_Clean.xlsx\n"
     ]
    }
   ],
   "source": [
    "# Clean the scorecard DataFrame\n",
    "card_df = pd.concat({k: pd.DataFrame(v) for k, v in card.items()})\n",
    "card_df = card_df.reset_index(level=0).rename(columns={'level_0': 'Variable'})\n",
    "\n",
    "# Keep only useful columns\n",
    "card_df = card_df[['Variable', 'bin', 'points']]\n",
    "\n",
    "# Save cleaned version to Excel\n",
    "output_path = r\"C:\\Users\\rajat\\OneDrive\\Desktop\\Inputs scorecard\\Final_Model_Scorecard_Clean.xlsx\"\n",
    "with pd.ExcelWriter(output_path) as writer:\n",
    "    card_df.to_excel(writer, sheet_name=\"Scorecard\", index=False)\n",
    "    test_score.to_excel(writer, sheet_name=\"Test_Scores\", index=False)\n",
    "\n",
    "print(f\"✅ Clean scorecard saved at {output_path}\")\n"
   ]
  },
  {
   "cell_type": "code",
   "execution_count": 3,
   "id": "d6ed733c-09b2-47b4-9baa-2aea6cffc769",
   "metadata": {},
   "outputs": [],
   "source": [
    "# Take your cleaned scorecard (Final_Model_Scorecard_Clean.xlsx).\n",
    "# Take your model dataset (Final_Model_Dataset.xlsx).\n",
    "# Apply the scorecard bins to each customer.\n",
    "# Add basepoints (604) + sum of their variable bin points.\n",
    "# Output the final score for all 100 customers in a new Excel file. "
   ]
  },
  {
   "cell_type": "code",
   "execution_count": 36,
   "id": "63f64864-ca46-4255-bff1-cc36e7815ce9",
   "metadata": {},
   "outputs": [
    {
     "name": "stdout",
     "output_type": "stream",
     "text": [
      "✅ Final scores saved to C:\\Users\\rajat\\OneDrive\\Desktop\\Inputs scorecard\\Customer_Final_Scores.xlsx\n"
     ]
    }
   ],
   "source": [
    "import pandas as pd\n",
    "import scorecardpy as sc\n",
    "\n",
    "# ---------------------------\n",
    "# Step 1: Load Data\n",
    "# ---------------------------\n",
    "data_path = r\"C:\\Users\\rajat\\OneDrive\\Desktop\\Inputs scorecard\\Final_Model_Dataset.xlsx\"\n",
    "scorecard_path = r\"C:\\Users\\rajat\\OneDrive\\Desktop\\Inputs scorecard\\Final_Model_Scorecard_Clean.xlsx\"\n",
    "output_path = r\"C:\\Users\\rajat\\OneDrive\\Desktop\\Inputs scorecard\\Customer_Final_Scores.xlsx\"\n",
    "\n",
    "df = pd.read_excel(data_path)\n",
    "card = pd.read_excel(scorecard_path)\n",
    "\n",
    "# ---------------------------\n",
    "# Step 2: Apply Scorecard\n",
    "# ---------------------------\n",
    "# Convert scorecard file into scorecardpy format\n",
    "# Make sure 'card' has the columns: Variable, bin, points\n",
    "card_dict = {}\n",
    "for var in card['Variable'].unique():\n",
    "    temp = card[card['Variable'] == var][['bin', 'points']].set_index('bin').to_dict()['points']\n",
    "    card_dict[var] = temp\n",
    "\n",
    "# Apply scorecard to each row\n",
    "def calculate_score(row):\n",
    "    total = card[card['Variable'] == 'basepoints']['points'].iloc[0]  # basepoints\n",
    "    for var in card['Variable'].unique():\n",
    "        if var == 'basepoints': \n",
    "            continue\n",
    "        value = row.get(var, None)\n",
    "        if pd.isna(value):\n",
    "            continue\n",
    "        # Find matching bin\n",
    "        for bin_label, pts in card_dict[var].items():\n",
    "            if \"[\" in str(bin_label):  # range bin\n",
    "                lo = float(bin_label.split(\",\")[0].replace(\"[\",\"\").replace(\"(\",\"-inf\"))\n",
    "                hi = float(bin_label.split(\",\")[1].replace(\")\",\"\").replace(\"]\",\"inf\"))\n",
    "                if lo == float('-inf') or value >= lo:\n",
    "                    if hi == float('inf') or value < hi:\n",
    "                        total += pts\n",
    "                        break\n",
    "            else:  # categorical or cluster\n",
    "                if str(value) == str(bin_label):\n",
    "                    total += pts\n",
    "                    break\n",
    "    return total\n",
    "\n",
    "df['Final_Score'] = df.apply(calculate_score, axis=1)\n",
    "\n",
    "# ---------------------------\n",
    "# Step 3: Save Output\n",
    "# ---------------------------\n",
    "df.to_excel(output_path, index=False)\n",
    "print(f\"✅ Final scores saved to {output_path}\")\n"
   ]
  },
  {
   "cell_type": "code",
   "execution_count": 37,
   "id": "964c0cc6-dba7-47bc-b5e4-dcbc9d2afe60",
   "metadata": {},
   "outputs": [
    {
     "name": "stdout",
     "output_type": "stream",
     "text": [
      "✅ Saved 3 customer files into C:\\Users\\rajat\\OneDrive\\Desktop\\Inputs scorecard\\Customer_Files\n"
     ]
    }
   ],
   "source": [
    "import os\n",
    "\n",
    "# Folder to save individual files\n",
    "output_folder = r\"C:\\Users\\rajat\\OneDrive\\Desktop\\Inputs scorecard\\Customer_Files\"\n",
    "os.makedirs(output_folder, exist_ok=True)\n",
    "\n",
    "# Limit number of customers (example: first 5)\n",
    "n_customers = 3\n",
    "\n",
    "# Loop through first n customers\n",
    "for idx, row in df.head(n_customers).iterrows():\n",
    "    customer_id = row.get(\"CustomerID\", f\"Cust_{idx+1}\")  # adjust column name if you have unique ID\n",
    "    output_file = os.path.join(output_folder, f\"{customer_id}.xlsx\")\n",
    "    \n",
    "    # Convert single row to DataFrame\n",
    "    row_df = row.to_frame().T\n",
    "    \n",
    "    # Save to Excel\n",
    "    row_df.to_excel(output_file, index=False)\n",
    "\n",
    "print(f\"✅ Saved {n_customers} customer files into {output_folder}\")\n"
   ]
  },
  {
   "cell_type": "code",
   "execution_count": null,
   "id": "2b14550f-8aef-49ed-8b54-a6cdf7943bc6",
   "metadata": {},
   "outputs": [],
   "source": []
  }
 ],
 "metadata": {
  "kernelspec": {
   "display_name": "Python 3 (ipykernel)",
   "language": "python",
   "name": "python3"
  },
  "language_info": {
   "codemirror_mode": {
    "name": "ipython",
    "version": 3
   },
   "file_extension": ".py",
   "mimetype": "text/x-python",
   "name": "python",
   "nbconvert_exporter": "python",
   "pygments_lexer": "ipython3",
   "version": "3.12.7"
  }
 },
 "nbformat": 4,
 "nbformat_minor": 5
}
