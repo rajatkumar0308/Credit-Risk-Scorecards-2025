{
 "cells": [
  {
   "cell_type": "markdown",
   "id": "6c986034",
   "metadata": {},
   "source": [
    "### 1. Data Types\n",
    "Python has int, float, string, and boolean types.\n",
    "They define the type of value a variable can hold."
   ]
  },
  {
   "cell_type": "code",
   "execution_count": 4,
   "id": "0ee223b5",
   "metadata": {},
   "outputs": [
    {
     "name": "stdout",
     "output_type": "stream",
     "text": [
      "10 3.14 Rajat True\n"
     ]
    }
   ],
   "source": [
    "x = 10\n",
    "y = 3.14\n",
    "name = 'Rajat'\n",
    "is_valid = True\n",
    "print(x, y, name, is_valid)"
   ]
  },
  {
   "cell_type": "markdown",
   "id": "baf59648",
   "metadata": {},
   "source": [
    "### 2. Output & Printing\n",
    "We use `print()` to display values or messages.\n",
    "It can handle multiple values at once."
   ]
  },
  {
   "cell_type": "code",
   "execution_count": 5,
   "id": "9c497bdd",
   "metadata": {},
   "outputs": [
    {
     "name": "stdout",
     "output_type": "stream",
     "text": [
      "Hello, Rajat\n",
      "Sum of x and y: 13.14\n"
     ]
    }
   ],
   "source": [
    "print('Hello,', name)\n",
    "print('Sum of x and y:', x + y)"
   ]
  },
  {
   "cell_type": "markdown",
   "id": "9b023a85",
   "metadata": {},
   "source": [
    "### 3. Variables\n",
    "Variables store values. They can be reassigned anytime.\n",
    "Multiple variables can be assigned in one line."
   ]
  },
  {
   "cell_type": "code",
   "execution_count": 10,
   "id": "1640eeb7",
   "metadata": {},
   "outputs": [
    {
     "name": "stdout",
     "output_type": "stream",
     "text": [
      "Sum: 0.7142857142857143\n"
     ]
    }
   ],
   "source": [
    "a, b = 5, 7\n",
    "print('Sum:', a / b)"
   ]
  },
  {
   "cell_type": "markdown",
   "id": "90ed37a6",
   "metadata": {},
   "source": [
    "### 4. User Input\n",
    "`input()` lets users enter values. Always returns a string.\n",
    "Use `int()` or `float()` for numeric conversion."
   ]
  },
  {
   "cell_type": "code",
   "execution_count": 11,
   "id": "701b7c64",
   "metadata": {},
   "outputs": [],
   "source": [
    "# user = input('Enter your name: ')\n",
    "# print('Welcome,', user)\n"
   ]
  },
  {
   "cell_type": "code",
   "execution_count": 14,
   "id": "dc8b51a8-cd43-4f1e-b922-3a7dc08a7280",
   "metadata": {},
   "outputs": [
    {
     "name": "stdin",
     "output_type": "stream",
     "text": [
      "Enter your name  rahul\n",
      "Enter your age:  34\n",
      "Enter your city:  d.dun\n"
     ]
    },
    {
     "name": "stdout",
     "output_type": "stream",
     "text": [
      "\n",
      "Hello rahul! 👋\n",
      "You are 34 years old, living in d.dun.\n",
      "Your status: Adult\n"
     ]
    }
   ],
   "source": [
    "#Example : # Ask user for multiple inputs\n",
    "name = input(\"Enter your name \")\n",
    "age = int(input(\"Enter your age: \"))\n",
    "city = input(\"Enter your city: \")\n",
    "\n",
    "# Use inputs in logic\n",
    "if age < 18:\n",
    "    status = \"Minor\"\n",
    "else:\n",
    "    status = \"Adult\"\n",
    "\n",
    "print(f\"\\nHello {name}! 👋\")\n",
    "print(f\"You are {age} years old, living in {city}.\")\n",
    "print(f\"Your status: {status}\")"
   ]
  },
  {
   "cell_type": "markdown",
   "id": "5574092b",
   "metadata": {},
   "source": [
    "### 5. Arithmetic Operators\n",
    "Python supports +, -, *, /, //, %, and **.\n",
    "They work on both integers and floats."
   ]
  },
  {
   "cell_type": "code",
   "execution_count": 15,
   "id": "9f5b5292",
   "metadata": {},
   "outputs": [
    {
     "name": "stdout",
     "output_type": "stream",
     "text": [
      "13 7 30 3.3333333333333335 3 1 100\n"
     ]
    }
   ],
   "source": [
    "print(10 + 3, 10 - 3, 10 * 3, 10 / 3, 10 // 3, 10 % 3, 10 ** 2)"
   ]
  },
  {
   "cell_type": "markdown",
   "id": "636c9cf0",
   "metadata": {},
   "source": [
    "### 6. String Methods\n",
    "Strings have built-in methods like `upper()`, `title()`, and `replace()`.\n",
    "They make text processing easier."
   ]
  },
  {
   "cell_type": "code",
   "execution_count": 16,
   "id": "cb58912a",
   "metadata": {},
   "outputs": [
    {
     "name": "stdout",
     "output_type": "stream",
     "text": [
      "CREDIT RISK MODELING Credit Risk Modeling credit scorecard modeling\n"
     ]
    }
   ],
   "source": [
    "msg = 'credit risk modeling'\n",
    "print(msg.upper(), msg.title(), msg.replace('risk', 'scorecard'))"
   ]
  },
  {
   "cell_type": "markdown",
   "id": "95d5f6f0",
   "metadata": {},
   "source": [
    "### 7. Conditional Operators\n",
    "Used to compare values, returning True/False.\n",
    "Examples: >, <, ==, !=, >=, <="
   ]
  },
  {
   "cell_type": "code",
   "execution_count": 11,
   "id": "e39d5927",
   "metadata": {},
   "outputs": [
    {
     "name": "stdout",
     "output_type": "stream",
     "text": [
      "True\n",
      "False True\n"
     ]
    }
   ],
   "source": [
    "age = 20\n",
    "print(age > 18)\n",
    "print(age == 18, age != 18)\n"
   ]
  },
  {
   "cell_type": "markdown",
   "id": "dff54cc7",
   "metadata": {},
   "source": [
    "### 8. If-Else-Elif\n",
    "Conditional statements control flow.\n",
    "Use `if`, `elif`, and `else`."
   ]
  },
  {
   "cell_type": "code",
   "execution_count": 18,
   "id": "386685f8",
   "metadata": {},
   "outputs": [
    {
     "name": "stdout",
     "output_type": "stream",
     "text": [
      "Grade: A\n"
     ]
    }
   ],
   "source": [
    "score = 95\n",
    "if score >= 90:\n",
    "    print('Grade: A')\n",
    "elif score >= 75:\n",
    "    print('Grade: B')\n",
    "else:\n",
    "    print('Grade: C')"
   ]
  },
  {
   "cell_type": "code",
   "execution_count": 19,
   "id": "d32c8056-4080-4637-ac86-5c6e79c8cd90",
   "metadata": {},
   "outputs": [
    {
     "name": "stdout",
     "output_type": "stream",
     "text": [
      "Is allowed for A-rated movie? False\n",
      "Is exactly 18? False\n",
      "Is not 18? True\n",
      "Ticket Price: 150\n"
     ]
    }
   ],
   "source": [
    "#Example\n",
    "age = 16\n",
    "student = True\n",
    "ticket_price = 0\n",
    "\n",
    "# Check if person is allowed to watch an \"A\" rated movie\n",
    "print(\"Is allowed for A-rated movie?\", age >= 18)\n",
    "\n",
    "# Check if person is exactly 18 years old\n",
    "print(\"Is exactly 18?\", age == 18)\n",
    "\n",
    "# Check if person is not 18\n",
    "print(\"Is not 18?\", age != 18)\n",
    "\n",
    "# Decide ticket price\n",
    "if age < 12:\n",
    "    ticket_price = 100   # kids discount\n",
    "elif age < 18 and student:\n",
    "    ticket_price = 150   # student discount\n",
    "elif age < 18 and student:\n",
    "    ticket_price = 150\n",
    "elif age < 18 and student:\n",
    "    ticket_price = 150\n",
    "else:\n",
    "    ticket_price = 250   # normal price\n",
    "\n",
    "print(\"Ticket Price:\", ticket_price)\n"
   ]
  },
  {
   "cell_type": "markdown",
   "id": "77941286",
   "metadata": {},
   "source": [
    "### 9. Lists & Tuples\n",
    "Lists are mutable, tuples are immutable.\n",
    "Both store ordered collections."
   ]
  },
  {
   "cell_type": "code",
   "execution_count": 21,
   "id": "d19a8435",
   "metadata": {},
   "outputs": [
    {
     "name": "stdout",
     "output_type": "stream",
     "text": [
      "banana banana (10, 20)\n"
     ]
    }
   ],
   "source": [
    "fruits = ['apple', 'banana', 'cherry']\n",
    "coords = (10, 20)\n",
    "print(fruits[1], fruits[-2], coords)"
   ]
  },
  {
   "cell_type": "markdown",
   "id": "cadb4650",
   "metadata": {},
   "source": [
    "### 10. For Loops\n",
    "`for` loops iterate over items.\n",
    "Useful for lists, strings, and ranges."
   ]
  },
  {
   "cell_type": "code",
   "execution_count": 22,
   "id": "93a6c745",
   "metadata": {},
   "outputs": [
    {
     "name": "stdout",
     "output_type": "stream",
     "text": [
      "Fruit: apple\n",
      "Fruit: banana\n",
      "Fruit: cherry\n"
     ]
    }
   ],
   "source": [
    "#मान लो आपके पास एक टॉफी का डब्बा है जिसमें 5 टॉफियां रखी हैं।\n",
    "#आप हर बार एक-एक टॉफी उठाकर खाना चाहते हो।\n",
    "#डब्बा = list (iterable)\n",
    "#हर टॉफी = element\n",
    "#for loop = “हर टॉफी उठाओ और खाओ, जब तक डब्बा खाली न हो जाए”\n",
    "\n",
    "for fruit in fruits:\n",
    "    print('Fruit:', fruit)"
   ]
  },
  {
   "cell_type": "markdown",
   "id": "42264ed3",
   "metadata": {},
   "source": [
    "### 11. While Loops\n",
    "`while` loops run until condition is False.\n",
    "Be careful to avoid infinite loops."
   ]
  },
  {
   "cell_type": "code",
   "execution_count": 24,
   "id": "34f3e637",
   "metadata": {},
   "outputs": [
    {
     "name": "stdout",
     "output_type": "stream",
     "text": [
      "Countdown: 3\n",
      "Countdown: 2\n",
      "Countdown: 1\n"
     ]
    }
   ],
   "source": [
    "#जब तक कोई condition True है, Python बार-बार वही काम करता रहेगा।\n",
    "#जैसे ही condition False हुई → loop रुक जाएगा।\n",
    "\n",
    "n = 3\n",
    "while n > 0:\n",
    "    print('Countdown:', n)\n",
    "    n -= 1"
   ]
  },
  {
   "cell_type": "markdown",
   "id": "709deb08",
   "metadata": {},
   "source": [
    "### 12. Slice Operator\n",
    "Used to extract parts of lists or strings.\n",
    "Syntax: `[start:end:step]`."
   ]
  },
  {
   "cell_type": "code",
   "execution_count": 25,
   "id": "8fdb0c50",
   "metadata": {},
   "outputs": [
    {
     "name": "stdout",
     "output_type": "stream",
     "text": [
      "[1, 2, 3] [5, 4, 3, 2, 1, 0]\n"
     ]
    }
   ],
   "source": [
    "nums = [0, 1, 2, 3, 4, 5]\n",
    "print(nums[1:4], nums[::-1]) # reverse the list"
   ]
  },
  {
   "cell_type": "markdown",
   "id": "b5d7932a",
   "metadata": {},
   "source": [
    "### 13. Sets\n",
    "Sets store unique unordered values.\n",
    "Automatically removes duplicates."
   ]
  },
  {
   "cell_type": "code",
   "execution_count": 27,
   "id": "7e2ab5bf",
   "metadata": {},
   "outputs": [
    {
     "name": "stdout",
     "output_type": "stream",
     "text": [
      "{1, 2, 3, 5}\n"
     ]
    }
   ],
   "source": [
    "unique_nums = {1, 5, 2, 2,3,3, 3}\n",
    "print(unique_nums)"
   ]
  },
  {
   "cell_type": "markdown",
   "id": "4876982d",
   "metadata": {},
   "source": [
    "### 14. Dictionaries\n",
    "Dictionaries store key-value pairs.\n",
    "Access values using keys."
   ]
  },
  {
   "cell_type": "code",
   "execution_count": null,
   "id": "8ebae680",
   "metadata": {},
   "outputs": [],
   "source": [
    "student = {'name': 'Rajat', 'score': 95}\n",
    "print(student['name'], student.get('score'))"
   ]
  },
  {
   "cell_type": "markdown",
   "id": "79e9a933",
   "metadata": {},
   "source": [
    "### 15. Comprehensions\n",
    "Quick way to build collections.\n",
    "Often used for transformations.\n",
    "This is called a list comprehension in Python.\n",
    "👉 It’s a short way to create lists, instead of writing a long loop."
   ]
  },
  {
   "cell_type": "code",
   "execution_count": 28,
   "id": "f0661417-a6a8-4cab-9a9a-09199c3b3285",
   "metadata": {},
   "outputs": [
    {
     "name": "stdout",
     "output_type": "stream",
     "text": [
      "[0, 1, 4, 9, 16]\n"
     ]
    }
   ],
   "source": [
    "#normal way :\n",
    "squares = []\n",
    "for i in range(5):\n",
    "    squares.append(i**2)\n",
    "\n",
    "print(squares)\n"
   ]
  },
  {
   "cell_type": "code",
   "execution_count": 29,
   "id": "01b1ae61",
   "metadata": {
    "scrolled": true
   },
   "outputs": [
    {
     "name": "stdout",
     "output_type": "stream",
     "text": [
      "[0, 1, 4, 9, 16]\n"
     ]
    }
   ],
   "source": [
    "# LIST COMPREHENSION \n",
    "squares = [i**2 for i in range(5)]\n",
    "print(squares)\n",
    "\n"
   ]
  },
  {
   "cell_type": "code",
   "execution_count": 22,
   "id": "62455e80-9ad2-45bd-83cc-f77a51f1b1a4",
   "metadata": {},
   "outputs": [],
   "source": [
    "### you comprehend (understand) the entire loop + append logic in one line.\n",
    "### It’s like writing a full loop inside square brackets [ ]"
   ]
  },
  {
   "cell_type": "markdown",
   "id": "5d998f22",
   "metadata": {},
   "source": [
    "### 16. Functions\n",
    "Functions organize reusable code.\n",
    "Defined using `def`."
   ]
  },
  {
   "cell_type": "code",
   "execution_count": 30,
   "id": "ae8e0bab",
   "metadata": {},
   "outputs": [
    {
     "name": "stdout",
     "output_type": "stream",
     "text": [
      "Hello, Rajat!\n"
     ]
    }
   ],
   "source": [
    "def greet(name):\n",
    "    return f'Hello, {name}!'\n",
    "print(greet('Rajat'))"
   ]
  },
  {
   "cell_type": "markdown",
   "id": "83748396",
   "metadata": {},
   "source": [
    "### 17. *args & **kwargs\n",
    "`*args` handles variable arguments.\n",
    "`**kwargs` handles keyword arguments."
   ]
  },
  {
   "cell_type": "code",
   "execution_count": null,
   "id": "b130bb8f-9de9-4ccb-a3a4-cf03d4bb8676",
   "metadata": {},
   "outputs": [],
   "source": [
    "# *args (RGS = Regular Arguments / Positional Arguments)\n",
    "# *args lets you pass multiple values (positional arguments) into a function.\n",
    "# It collects them into a tuple."
   ]
  },
  {
   "cell_type": "code",
   "execution_count": 31,
   "id": "1f12a535",
   "metadata": {},
   "outputs": [
    {
     "name": "stdout",
     "output_type": "stream",
     "text": [
      "10\n",
      "{'name': 'Rajat', 'role': 'Data Scientist'}\n"
     ]
    }
   ],
   "source": [
    "def add_all(*args):\n",
    "    return sum(args)\n",
    "print(add_all(1, 2, 3, 4))\n",
    "\n",
    "def display_info(**kwargs):\n",
    "    return kwargs\n",
    "print(display_info(name='Rajat', role='Data Scientist'))"
   ]
  },
  {
   "cell_type": "markdown",
   "id": "51669a6b",
   "metadata": {},
   "source": [
    "### 18. Scope & Globals\n",
    "Local variables exist inside functions.\n",
    "Use `global` to modify outer variables."
   ]
  },
  {
   "cell_type": "code",
   "execution_count": 37,
   "id": "7b1d8a53",
   "metadata": {},
   "outputs": [
    {
     "name": "stdout",
     "output_type": "stream",
     "text": [
      "Global x: 10\n"
     ]
    }
   ],
   "source": [
    "x = 5\n",
    "def test_scope():\n",
    "    global x\n",
    "    x = 10\n",
    "test_scope()\n",
    "print('Global x:', x)"
   ]
  },
  {
   "cell_type": "markdown",
   "id": "69ae38e0",
   "metadata": {},
   "source": [
    "### 19. Exceptions & Handling\n",
    "Errors can be caught using `try-except`.\n",
    "Prevents program crashes."
   ]
  },
  {
   "cell_type": "code",
   "execution_count": 38,
   "id": "7316c6b3",
   "metadata": {},
   "outputs": [
    {
     "name": "stdout",
     "output_type": "stream",
     "text": [
      "Error: Division by zero!\n"
     ]
    }
   ],
   "source": [
    "try:\n",
    "    print(10 / 0)\n",
    "except ZeroDivisionError:\n",
    "    print('Error: Division by zero!')"
   ]
  },
  {
   "cell_type": "markdown",
   "id": "8e21af20",
   "metadata": {},
   "source": [
    "### 20. Lambda, Map, Filter\n",
    "Anonymous functions with `lambda`.\n",
    "Useful with `map()` and `filter()`."
   ]
  },
  {
   "cell_type": "code",
   "execution_count": 39,
   "id": "58174411",
   "metadata": {},
   "outputs": [
    {
     "name": "stdout",
     "output_type": "stream",
     "text": [
      "[1, 2, 3, 4, 5] [1, 4, 9, 16, 25] [2, 4]\n"
     ]
    }
   ],
   "source": [
    "nums = [1, 2, 3, 4, 5]\n",
    "squared = list(map(lambda n: n**2, nums))    #👉 It applies the given function to each item in the iterable. \n",
    "evens = list(filter(lambda n: n % 2 == 0, nums))   #👉 It keeps only those items from the iterable for which the function returns True.\n",
    "print(nums,squared, evens)"
   ]
  },
  {
   "cell_type": "markdown",
   "id": "240d2d19",
   "metadata": {},
   "source": [
    "### 21. F-Strings\n",
    "F-strings format strings easily.\n",
    "Variables go inside `{}`."
   ]
  },
  {
   "cell_type": "code",
   "execution_count": 40,
   "id": "f32cdead",
   "metadata": {},
   "outputs": [
    {
     "name": "stdout",
     "output_type": "stream",
     "text": [
      "My name is Rajat and I am 32 years old.\n"
     ]
    }
   ],
   "source": [
    "name, age = 'Rajat', 32\n",
    "print(f'My name is {name} and I am {age} years old.')"
   ]
  },
  {
   "cell_type": "markdown",
   "id": "a0abcd63",
   "metadata": {},
   "source": [
    "### 22. NumPy Arrays & Dimensions\n",
    "NumPy arrays are efficient containers.\n",
    "They support vectorized operations.\n",
    "\n",
    "Faster computations – NumPy arrays are much quicker than Python lists for large datasets.\n",
    "\n",
    "Memory efficient – They use less memory because all elements are of the same type.\n",
    "\n",
    "Vectorized operations – You can do element-wise math without loops (e.g., a + b).\n",
    "\n",
    "Convenient functions – NumPy provides built-in functions for math, statistics, and linear algebra.\n",
    "\n",
    "Multidimensional support – You can easily work with matrices, images, and higher-dimensional data."
   ]
  },
  {
   "cell_type": "code",
   "execution_count": 43,
   "id": "ae28df9d",
   "metadata": {},
   "outputs": [
    {
     "name": "stdout",
     "output_type": "stream",
     "text": [
      "[1 2 3 4] [[1 2]\n",
      " [3 4]]\n"
     ]
    },
    {
     "data": {
      "text/plain": [
       "numpy.ndarray"
      ]
     },
     "execution_count": 43,
     "metadata": {},
     "output_type": "execute_result"
    }
   ],
   "source": [
    "import numpy as np\n",
    "arr = np.array([1, 2, 3, 4])\n",
    "mat = np.array([[1, 2], [3, 4]])\n",
    "print(arr, mat)\n",
    "\n",
    "type(mat)"
   ]
  },
  {
   "cell_type": "code",
   "execution_count": 44,
   "id": "521baae4-63f7-4692-be8b-8f5810a45a2f",
   "metadata": {},
   "outputs": [
    {
     "name": "stdout",
     "output_type": "stream",
     "text": [
      "[[[ 1  2  3]\n",
      "  [ 4  5  6]]\n",
      "\n",
      " [[ 7  8  9]\n",
      "  [10 11 12]]]\n"
     ]
    }
   ],
   "source": [
    "arr3d = np.array([\n",
    "    [[1, 2, 3], [4, 5, 6]], \n",
    "    [[7, 8, 9], [10, 11, 12]]\n",
    "])\n",
    "\n",
    "print(arr3d)"
   ]
  },
  {
   "cell_type": "markdown",
   "id": "2f1b7812",
   "metadata": {},
   "source": [
    "### 23. NumPy Indexing & Slicing\n",
    "Works similar to Python lists.\n",
    "Also supports multi-dimensional indexing."
   ]
  },
  {
   "cell_type": "code",
   "execution_count": 45,
   "id": "d387265e",
   "metadata": {},
   "outputs": [
    {
     "name": "stdout",
     "output_type": "stream",
     "text": [
      "1 4 [2 3]\n",
      "2 [1 3]\n"
     ]
    }
   ],
   "source": [
    "print(arr[0], arr[-1], arr[1:3])\n",
    "print(mat[0, 1], mat[:, 0])"
   ]
  },
  {
   "cell_type": "markdown",
   "id": "3f777a38",
   "metadata": {},
   "source": [
    "### 24. NumPy Broadcasting\n",
    "Allows operations on arrays of different shapes.\n",
    "No need for loops."
   ]
  },
  {
   "cell_type": "code",
   "execution_count": 27,
   "id": "bbe31ea6",
   "metadata": {},
   "outputs": [
    {
     "name": "stdout",
     "output_type": "stream",
     "text": [
      "[11 22 33 44]\n"
     ]
    }
   ],
   "source": [
    "arr2 = np.array([10, 20, 30, 40])\n",
    "print(arr + arr2)"
   ]
  },
  {
   "cell_type": "markdown",
   "id": "ceaa2676",
   "metadata": {},
   "source": [
    "### 25. NumPy Vectorized Operations\n",
    "Apply math operations on arrays.\n",
    "Faster than Python loops."
   ]
  },
  {
   "cell_type": "code",
   "execution_count": 46,
   "id": "7e1c3352",
   "metadata": {},
   "outputs": [
    {
     "name": "stdout",
     "output_type": "stream",
     "text": [
      "[2 4 6 8] [ 1  4  9 16]\n"
     ]
    }
   ],
   "source": [
    "print(arr * 2, arr ** 2)"
   ]
  },
  {
   "cell_type": "markdown",
   "id": "807bb785",
   "metadata": {},
   "source": [
    "### 26. NumPy Statistics\n",
    "Functions like mean, std, percentile.\n",
    "Useful for analytics."
   ]
  },
  {
   "cell_type": "code",
   "execution_count": 47,
   "id": "7e25c15c",
   "metadata": {},
   "outputs": [
    {
     "ename": "NameError",
     "evalue": "name 'arr2' is not defined",
     "output_type": "error",
     "traceback": [
      "\u001b[1;31m---------------------------------------------------------------------------\u001b[0m",
      "\u001b[1;31mNameError\u001b[0m                                 Traceback (most recent call last)",
      "Cell \u001b[1;32mIn[47], line 1\u001b[0m\n\u001b[1;32m----> 1\u001b[0m \u001b[38;5;28mprint\u001b[39m(\u001b[38;5;124m'\u001b[39m\u001b[38;5;124mMean:\u001b[39m\u001b[38;5;124m'\u001b[39m, arr\u001b[38;5;241m.\u001b[39mmean(), \u001b[38;5;124m'\u001b[39m\u001b[38;5;124mStd:\u001b[39m\u001b[38;5;124m'\u001b[39m, arr\u001b[38;5;241m.\u001b[39mstd(), \u001b[38;5;124m'\u001b[39m\u001b[38;5;124mPercentile:\u001b[39m\u001b[38;5;124m'\u001b[39m, np\u001b[38;5;241m.\u001b[39mpercentile(arr2, \u001b[38;5;241m50\u001b[39m))\n",
      "\u001b[1;31mNameError\u001b[0m: name 'arr2' is not defined"
     ]
    }
   ],
   "source": [
    "print('Mean:', arr.mean(), 'Std:', arr.std(), 'Percentile:', np.percentile(arr2, 50))"
   ]
  },
  {
   "cell_type": "markdown",
   "id": "d07bed2e",
   "metadata": {},
   "source": [
    "### 27. NumPy Random Sampling\n",
    "Generate random numbers or arrays.\n",
    "Useful for ML and testing."
   ]
  },
  {
   "cell_type": "code",
   "execution_count": 50,
   "id": "5436b461",
   "metadata": {},
   "outputs": [
    {
     "name": "stdout",
     "output_type": "stream",
     "text": [
      "Random numbers: [70 13 88 29  6]\n"
     ]
    }
   ],
   "source": [
    "print('Random numbers:', np.random.randint(1, 100, 5))"
   ]
  },
  {
   "cell_type": "markdown",
   "id": "d77d1577",
   "metadata": {},
   "source": [
    "### 28. Pandas Series & DataFrame\n",
    "Here are 5 introductory points about Pandas for beginners:\n",
    "\n",
    "Data Handling Library – Pandas is a Python library used for data manipulation and analysis.\n",
    "\n",
    "Key Data Structures – Provides Series (1D) and DataFrame (2D table) for storing data efficiently.\n",
    "\n",
    "Easy Data Cleaning – Helps handle missing data, duplicates, and inconsistent formats easily.\n",
    "\n",
    "Data Operations – Supports filtering, grouping, merging, and aggregation of data.\n",
    "\n",
    "Integration with Other Libraries – Works well with NumPy, Matplotlib, and CSV/Excel files for analytics.\n",
    "\n",
    "Series is 1D, DataFrame is 2D.\n",
    "Core structures in Pandas.\n",
    "\n",
    "NOTE :::: NumPy = fast numeric computation, but not designed for labeled, structured, or mixed data. That’s where Pandas comes in."
   ]
  },
  {
   "cell_type": "code",
   "execution_count": 51,
   "id": "ee3e340d",
   "metadata": {},
   "outputs": [
    {
     "name": "stdout",
     "output_type": "stream",
     "text": [
      "a    10\n",
      "b    20\n",
      "c    30\n",
      "dtype: int64\n",
      "      Name  Age  Score\n",
      "0    Alice   25     85\n",
      "1      Bob   30     90\n",
      "2  Charlie   35     95\n",
      "3    David   40     80\n"
     ]
    }
   ],
   "source": [
    "import pandas as pd\n",
    "\n",
    "s = pd.Series([10, 20, 30], index=['a', 'b', 'c'])\n",
    "print(s)\n",
    "\n",
    "\n",
    "data = {\n",
    "    'Name': ['Alice', 'Bob', 'Charlie', 'David'],\n",
    "    'Age': [25, 30, 35, 40],\n",
    "    'Score': [85, 90, 95, 80]\n",
    "}\n",
    "\n",
    "df = pd.DataFrame(data)\n",
    "print(df)\n"
   ]
  },
  {
   "cell_type": "markdown",
   "id": "14ea842e",
   "metadata": {},
   "source": [
    "### 29. Pandas Indexing & Selection\n",
    "Use loc for row selection.\n",
    "Brackets `[]` for columns."
   ]
  },
  {
   "cell_type": "code",
   "execution_count": 53,
   "id": "ae4d6c5c",
   "metadata": {},
   "outputs": [
    {
     "name": "stdout",
     "output_type": "stream",
     "text": [
      "0      Alice\n",
      "1        Bob\n",
      "2    Charlie\n",
      "3      David\n",
      "Name: Name, dtype: object\n",
      "Name     Alice\n",
      "Age         25\n",
      "Score       85\n",
      "Name: 0, dtype: object\n"
     ]
    }
   ],
   "source": [
    "print(df['Name'])\n",
    "print(df.loc[0])"
   ]
  },
  {
   "cell_type": "markdown",
   "id": "0276a4f1",
   "metadata": {},
   "source": [
    "### 30. Pandas Filtering\n",
    "Filter rows based on conditions.\n",
    "Returns a new DataFrame."
   ]
  },
  {
   "cell_type": "code",
   "execution_count": 36,
   "id": "4db36ead",
   "metadata": {},
   "outputs": [
    {
     "name": "stdout",
     "output_type": "stream",
     "text": [
      "      Name  Age  Score\n",
      "2  Charlie   35     95\n",
      "3    David   40     80\n"
     ]
    }
   ],
   "source": [
    "print(df[df['Age'] > 30])"
   ]
  },
  {
   "cell_type": "markdown",
   "id": "10f1dd34",
   "metadata": {},
   "source": [
    "### 31. Pandas Handling Missing Values\n",
    "Fill or drop missing data.\n",
    "Methods: fillna(), dropna()."
   ]
  },
  {
   "cell_type": "code",
   "execution_count": 54,
   "id": "fde5b02a",
   "metadata": {},
   "outputs": [
    {
     "name": "stdout",
     "output_type": "stream",
     "text": [
      "     A    B\n",
      "0  1.0  4.0\n",
      "1  0.0  5.0\n",
      "2  3.0  0.0\n",
      "     A    B\n",
      "0  1.0  4.0\n"
     ]
    }
   ],
   "source": [
    "df2 = pd.DataFrame({'A': [1, None, 3], 'B': [4, 5, None]})\n",
    "print(df2.fillna(0))\n",
    "print(df2.dropna())"
   ]
  },
  {
   "cell_type": "markdown",
   "id": "5d17bbbb",
   "metadata": {},
   "source": [
    "### 32. Pandas GroupBy & Aggregations\n",
    "Group rows and compute aggregates.\n",
    "Like SQL GROUP BY."
   ]
  },
  {
   "cell_type": "code",
   "execution_count": 38,
   "id": "2e0747d1",
   "metadata": {},
   "outputs": [
    {
     "name": "stdout",
     "output_type": "stream",
     "text": [
      "Age\n",
      "25    85.0\n",
      "30    90.0\n",
      "35    95.0\n",
      "40    80.0\n",
      "Name: Score, dtype: float64\n"
     ]
    }
   ],
   "source": [
    "print(df.groupby('Age')['Score'].mean())"
   ]
  },
  {
   "cell_type": "markdown",
   "id": "ab1e9802",
   "metadata": {},
   "source": [
    "### 33. Pandas Merge / Join / Concat\n",
    "Combine DataFrames like SQL joins.\n",
    "Merge on keys."
   ]
  },
  {
   "cell_type": "code",
   "execution_count": 55,
   "id": "aace3e0d",
   "metadata": {},
   "outputs": [
    {
     "name": "stdout",
     "output_type": "stream",
     "text": [
      "      Name  Age  Score     Dept\n",
      "0    Alice   25     85       IT\n",
      "1      Bob   30     90  Finance\n",
      "2  Charlie   35     95      NaN\n",
      "3    David   40     80      NaN\n"
     ]
    }
   ],
   "source": [
    "df3 = pd.DataFrame({'Name': ['Alice', 'Bob'], 'Dept': ['IT', 'Finance']})\n",
    "merged = pd.merge(df, df3, on='Name', how='left')\n",
    "print(merged)"
   ]
  },
  {
   "cell_type": "markdown",
   "id": "723839ac",
   "metadata": {},
   "source": [
    "### 34. Pandas Apply & Lambda\n",
    "Apply custom functions to columns.\n",
    "Row-wise or column-wise."
   ]
  },
  {
   "cell_type": "code",
   "execution_count": 40,
   "id": "fbad827a",
   "metadata": {},
   "outputs": [
    {
     "name": "stdout",
     "output_type": "stream",
     "text": [
      "      Name  Age  Score  Score2\n",
      "0    Alice   25     85      90\n",
      "1      Bob   30     90      95\n",
      "2  Charlie   35     95     100\n",
      "3    David   40     80      85\n"
     ]
    }
   ],
   "source": [
    "df['Score2'] = df['Score'].apply(lambda x: x + 5)\n",
    "print(df)"
   ]
  },
  {
   "cell_type": "markdown",
   "id": "e1443fb6",
   "metadata": {},
   "source": [
    "### 35. Pandas Feature Engineering\n",
    "Create new variables from existing ones.\n",
    "Key in ML."
   ]
  },
  {
   "cell_type": "code",
   "execution_count": 56,
   "id": "e98433b2",
   "metadata": {},
   "outputs": [
    {
     "name": "stdout",
     "output_type": "stream",
     "text": [
      "      Name  Age  Score  Score_to_Age\n",
      "0    Alice   25     85      3.400000\n",
      "1      Bob   30     90      3.000000\n",
      "2  Charlie   35     95      2.714286\n",
      "3    David   40     80      2.000000\n"
     ]
    }
   ],
   "source": [
    "df['Score_to_Age'] = df['Score'] / df['Age']\n",
    "print(df)"
   ]
  },
  {
   "cell_type": "markdown",
   "id": "05557211",
   "metadata": {},
   "source": [
    "### 36. Pandas Working with Dates\n",
    "Handles dates and times efficiently.\n",
    "Supports ranges and operations."
   ]
  },
  {
   "cell_type": "code",
   "execution_count": 57,
   "id": "e70ce36f",
   "metadata": {},
   "outputs": [
    {
     "name": "stdout",
     "output_type": "stream",
     "text": [
      "        Date  Value\n",
      "0 2025-01-01     92\n",
      "1 2025-01-02     93\n",
      "2 2025-01-03     13\n",
      "3 2025-01-04     62\n",
      "4 2025-01-05     97\n"
     ]
    }
   ],
   "source": [
    "dates = pd.date_range('2025-01-01', periods=5)\n",
    "df_dates = pd.DataFrame({'Date': dates, 'Value': np.random.randint(1, 100, 5)})\n",
    "print(df_dates)"
   ]
  },
  {
   "cell_type": "markdown",
   "id": "15768f01",
   "metadata": {},
   "source": [
    "### 37. Pandas Importing & Exporting Data\n",
    "Read/write CSV, Excel, SQL, etc.\n",
    "Use read_csv(), to_csv()."
   ]
  },
  {
   "cell_type": "code",
   "execution_count": 1,
   "id": "11284588",
   "metadata": {},
   "outputs": [],
   "source": [
    "# df.to_csv('students.csv', index=False)\n",
    "# df_loaded = pd.read_csv('students.csv')\n",
    "# print(df_loaded)"
   ]
  },
  {
   "cell_type": "code",
   "execution_count": 2,
   "id": "d9fb8a48-ad00-48dc-8d19-a7ede2afc33c",
   "metadata": {},
   "outputs": [
    {
     "name": "stdout",
     "output_type": "stream",
     "text": [
      "Intercept: [0.00049119]\n",
      "Coefficients:\n",
      "Age: 0.003004937108594886\n",
      "Income: -0.0030362124085617868\n",
      "Credit_Score: 0.2442279643798208\n",
      "\n",
      "Predicted Classes: [0 0]\n",
      "Predicted Probabilities:\n",
      " [[1.00000000e+00 7.34858409e-11]\n",
      " [1.00000000e+00 1.85165573e-81]]\n"
     ]
    }
   ],
   "source": [
    "# ==========================================\n",
    "# MINIMAL LOGISTIC REGRESSION MODEL - PYTHON\n",
    "# ==========================================\n",
    "\n",
    "# 1. Import Libraries\n",
    "import pandas as pd\n",
    "from sklearn.linear_model import LogisticRegression\n",
    "\n",
    "# 2. Create Sample Dataset\n",
    "data = {\n",
    "    'Age': [25, 45, 35, 50, 23, 40, 60, 22, 34, 48],\n",
    "    'Income': [50000, 100000, 75000, 120000, 45000, 90000, 130000, 40000, 70000, 110000],\n",
    "    'Credit_Score': [600, 700, 650, 720, 580, 690, 740, 590, 660, 710],\n",
    "    'Default': [0, 0, 0, 0, 1, 0, 0, 1, 0, 0]  # Target variable\n",
    "}\n",
    "\n",
    "df = pd.DataFrame(data)\n",
    "\n",
    "# 3. Define Features and Target\n",
    "X = df[['Age', 'Income', 'Credit_Score']]\n",
    "y = df['Default']\n",
    "\n",
    "# 4. Fit Logistic Regression Model\n",
    "model = LogisticRegression()\n",
    "model.fit(X, y)\n",
    "\n",
    "# 5. Display Model Parameters\n",
    "print(\"Intercept:\", model.intercept_)\n",
    "print(\"Coefficients:\")\n",
    "for feature, coef in zip(X.columns, model.coef_[0]):\n",
    "    print(f\"{feature}: {coef}\")\n",
    "\n",
    "# 6. Make Prediction Example\n",
    "new_data = pd.DataFrame({\n",
    "    'Age': [30, 55],\n",
    "    'Income': [60000, 120000],\n",
    "    'Credit_Score': [650, 730]\n",
    "})\n",
    "\n",
    "pred_class = model.predict(new_data)\n",
    "pred_prob = model.predict_proba(new_data)\n",
    "\n",
    "print(\"\\nPredicted Classes:\", pred_class)\n",
    "print(\"Predicted Probabilities:\\n\", pred_prob)\n"
   ]
  },
  {
   "cell_type": "code",
   "execution_count": null,
   "id": "a29782e2-7210-4029-8c7c-2a2cf90c8034",
   "metadata": {},
   "outputs": [],
   "source": []
  }
 ],
 "metadata": {
  "kernelspec": {
   "display_name": "Python 3 (ipykernel)",
   "language": "python",
   "name": "python3"
  },
  "language_info": {
   "codemirror_mode": {
    "name": "ipython",
    "version": 3
   },
   "file_extension": ".py",
   "mimetype": "text/x-python",
   "name": "python",
   "nbconvert_exporter": "python",
   "pygments_lexer": "ipython3",
   "version": "3.12.7"
  }
 },
 "nbformat": 4,
 "nbformat_minor": 5
}
